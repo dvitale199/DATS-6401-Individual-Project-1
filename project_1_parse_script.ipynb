{
 "cells": [
  {
   "cell_type": "code",
   "execution_count": null,
   "metadata": {},
   "outputs": [],
   "source": [
    "import pandas as pd\n",
    "import numpy as np\n",
    "import pygsheets\n",
    "#authorization\n",
    "gc = pygsheets.authorize(service_file='viz-midterm-56fb8f946d76.json')\n",
    "sh = gc.open('viz midterm data')\n",
    "\n",
    "missing_countries_list = []\n"
   ]
  },
  {
   "cell_type": "code",
   "execution_count": null,
   "metadata": {},
   "outputs": [],
   "source": [
    "# parse military data\n",
    "\n",
    "xldata = pd.ExcelFile(\"https://www.sipri.org/sites/default/files/SIPRI-Milex-data-1949-2017.xlsx\")\n",
    "\n",
    "# Data for military expenditure by country in current US$ (millions), presented according to calendar year.\n",
    "me_total_usd_main = pd.read_excel(xldata,sheet_name=\"Current USD\",skiprows=5)\n",
    "# Data for military expenditure by country as a share of GDP, presented according to calendar year.\n",
    "me_share_gdp_main = pd.read_excel(xldata,sheet_name=\"Share of GDP\",skiprows=5)\n",
    "# Data for military expenditure per capita, in current US$, presented according to calender year. (1988-2017 only)\n",
    "me_percap_main = pd.read_excel(xldata,sheet_name=\"Per capita\",skiprows=6)\n",
    "\n",
    "#me_percap[\"Country\"].loc([\"USA\",\"USSR\"])\n",
    "country_list = [\"Argentina\", \"Australia\", \"Brazil\", \"Canada\", \"China\", \n",
    "                \"France\", \"Germany\", \"India\", \"Indonesia\", \"Italy\", \"Japan\", \n",
    "                \"Republic of Korea\", \"Mexico\", \"Russia\", \"Saudi Arabia\", \n",
    "                \"South Africa\", \"Turkey\", \"UK\", \"USA\"]\n",
    "#country_list = [\"USA\", \"China\", \"Russia\", \"Germany\", \"UK\", \"France\", \"Italy\", \"Iran\", \"Israel\", \"Saudi Arabia\"]\n",
    "year_list = [2010,2011,2012,2013,2014,2015,2016,2017]\n",
    "\n",
    "\n",
    "# this standardizes the naming conventions for russia and china, which are different between three data sets\n",
    "me_total_usd_main.loc[me_total_usd_main[\"Country\"].str.contains(\"Russia\",na=False),\"Country\"] = \"Russia\"\n",
    "me_share_gdp_main.loc[me_share_gdp_main[\"Country\"].str.contains(\"Russia\",na=False),\"Country\"] = \"Russia\"\n",
    "me_percap_main.loc[me_percap_main[\"Country\"].str.contains(\"Russia\",na=False),\"Country\"] = \"Russia\"\n",
    "me_total_usd_main.loc[me_total_usd_main[\"Country\"].str.contains(\"China\",na=False),\"Country\"] = \"China\"\n",
    "me_share_gdp_main.loc[me_share_gdp_main[\"Country\"].str.contains(\"China\",na=False),\"Country\"] = \"China\"\n",
    "me_percap_main.loc[me_percap_main[\"Country\"].str.contains(\"China\",na=False),\"Country\"] = \"China\"\n",
    "\n",
    "# pick out year columns from 2010-2017 for relevant countries\n",
    "me_total_usd = me_total_usd_main[me_total_usd_main[\"Country\"].isin(country_list)][[\"Country\"] + year_list]\n",
    "me_share_gdp = me_share_gdp_main[me_share_gdp_main[\"Country\"].isin(country_list)][[\"Country\"] + year_list]\n",
    "me_percap = me_percap_main[me_percap_main[\"Country\"].isin(country_list)][[\"Country\"] + year_list]\n",
    "\n",
    "# melt to create \"year\" and \"total_ME\" columns\n",
    "me_total_usd = me_total_usd.melt(id_vars=\"Country\",var_name=\"year\" ,value_name=\"total_ME\")\n",
    "me_share_gdp = me_share_gdp.melt(id_vars=\"Country\",var_name=\"year\" ,value_name=\"share_of_gdp_ME\")\n",
    "me_percap = me_percap.melt(id_vars=\"Country\",var_name=\"year\" ,value_name=\"per_capita_ME\")\n",
    "\n",
    "# merge all into one on country and year\n",
    "me_df = pd.merge(pd.merge(me_total_usd,me_share_gdp, on=[\"Country\",\"year\"]), me_percap, on=[\"Country\",\"year\"])\n",
    "\n",
    "#calculate gdp, population, per capita gdp, and share_of_gdp_ME\n",
    "me_df[\"gdp\"] = me_df[\"total_ME\"]/me_df[\"share_of_gdp_ME\"]\n",
    "me_df[\"gdp\"] = me_df[\"gdp\"].astype(int)\n",
    "me_df[\"pop\"] = me_df[\"total_ME\"]/me_df[\"per_capita_ME\"]\n",
    "me_df[\"pcgdp\"] = me_df[\"gdp\"]/me_df[\"pop\"]\n",
    "me_df[\"year\"] = me_df[\"year\"].astype(str)\n",
    "me_df[\"share_of_gdp_ME\"] = me_df[\"share_of_gdp_ME\"]*100\n",
    "\n",
    "print(len(me_df.Country.unique()) == len(country_list), \": ed_df names and country_list are same not length\")\n",
    "print()\n",
    "print(\"Here are our G20 Countries: \",me_df.Country.unique())\n",
    "print()\n",
    "print(\"There are/is\", len(list(set(country_list).difference([i for i in me_df.Country.unique()]))), \"Countries missing\")\n",
    "print()\n",
    "print(list(set(country_list).difference([i for i in me_df.Country.unique()])),\"are/is missing\")\n",
    "missing_countries_list.extend(list(set(country_list).difference([i for i in me_df.Country.unique()])))\n"
   ]
  },
  {
   "cell_type": "code",
   "execution_count": null,
   "metadata": {},
   "outputs": [],
   "source": [
    "#EDUCATION DATA SOURCE: https://data.oecd.org/eduresource/public-spending-on-education.htm\n",
    "# COUNTRY CODES DATA SOURCE: https://unstats.un.org/unsd/tradekb/Knowledgebase/50347/Country-Code\n",
    "\n",
    "# read in education funding data- EDUPUBEXP (public expenditure) in PC_GDP (percent gdp)\n",
    "ed_data = pd.read_csv(\"data/education.csv\")\n",
    "\n",
    "# read in country codes and split country code from name into new columns\n",
    "country_codes = pd.read_csv(\"data/country_codes.csv\",header=None)\n",
    "country_codes[\"LOCATION\"], country_codes[\"name\"] = country_codes[0].str.split(' ',1).str\n",
    "\n",
    "# merge ed_df and country_codes to get  full country names from codes\n",
    "ed_df_names = pd.merge(ed_data,country_codes,on='LOCATION')\n",
    "\n",
    "# strip extra string from end of country names\n",
    "ed_df_names['name'] = ed_df_names['name'].str.strip(\"\\xa0\")\n",
    "\n",
    "# rename countries to match original country list (military data)\n",
    "ed_df_names['name'] = ed_df_names['name'].replace({'United States': 'USA', 'Russian Federation': 'Russia', 'United Kingdom': 'UK', 'Korea, Republic of': 'Republic of Korea'})\n",
    "\n",
    "#extract only rows of countries in country list and look at unique countries\n",
    "ed_df_clean = ed_df_names[ed_df_names['name'].isin(country_list)]\n",
    "print(len(ed_df_clean.name.unique()) == len(country_list), \": ed_df names and country_list are not same length\")\n",
    "print()\n",
    "print(\"Here are our G20 Countries: \",ed_df_clean.name.unique())\n",
    "print()\n",
    "print(\"There are\", len(list(set(country_list).difference([i for i in ed_df_clean[\"name\"].unique()]))), \"Countries missing\")\n",
    "print()\n",
    "print(list(set(country_list).difference([i for i in ed_df_clean.name.unique()])),\"are/is missing\")\n",
    "missing_countries_list.extend(list(set(country_list).difference([i for i in ed_df_clean.name.unique()])))\n"
   ]
  },
  {
   "cell_type": "code",
   "execution_count": null,
   "metadata": {},
   "outputs": [],
   "source": [
    "# pull out rows with \"PRY_NTRY\" (primary not tertiary) for subject and years in our year list\n",
    "ed_df_clean = ed_df_clean[(ed_df_clean[\"SUBJECT\"] == 'PRY_NTRY') & (ed_df_clean[\"TIME\"].isin(year_list))]\n",
    "ed_df_clean.shape"
   ]
  },
  {
   "cell_type": "code",
   "execution_count": null,
   "metadata": {},
   "outputs": [],
   "source": [
    "important_ed_cols = [\"name\",\"TIME\",\"Value\"]\n",
    "ed_df = ed_df_clean[important_ed_cols]\n",
    "ed_df.columns = [\"Country\",\"year\",\"pct_gdp_ed\"]\n",
    "ed_df['year'] = ed_df['year'].astype(str)\n",
    "ed_df.head()"
   ]
  },
  {
   "cell_type": "code",
   "execution_count": null,
   "metadata": {},
   "outputs": [],
   "source": []
  },
  {
   "cell_type": "code",
   "execution_count": null,
   "metadata": {},
   "outputs": [],
   "source": [
    "#HEALTHCARE DATA SOURCE: https://data.oecd.org/healthres/health-spending.htm\n",
    "#read in healthcare data\n",
    "hc_data = pd.read_csv('data/healthcare.csv')\n",
    "\n",
    "#merge healthcare data with country_codes to get full country names\n",
    "hc_df_names = pd.merge(hc_data,country_codes,on='LOCATION')\n",
    "\n",
    "# strip extra string from end of country names\n",
    "hc_df_names['name'] = hc_df_names['name'].str.strip(\"\\xa0\")\n",
    "\n",
    "# rename countries to match original country list (military data)\n",
    "hc_df_names['name'] = hc_df_names['name'].replace({'United States': 'USA', 'Russian Federation': 'Russia', 'United Kingdom': 'UK', 'Korea, Republic of': 'Republic of Korea'})\n",
    "\n",
    "#extract only rows of countries in country list and look at unique countries\n",
    "hc_df_clean = hc_df_names[hc_df_names['name'].isin(country_list)]\n",
    "print(len(hc_df_clean.name.unique()) == len(country_list), \": ed_df names and country_list are not same length\")\n",
    "print()\n",
    "print(\"Here are our G20 Countries: \",hc_df_clean.name.unique())\n",
    "print()\n",
    "print(\"There are\", len(set(country_list).difference([i for i in hc_df_clean[\"name\"].unique()])), \n",
    "      \"Countries missing from healthcare data:\",set(country_list).difference([i for i in hc_df_clean[\"name\"].unique()]))\n",
    "print()\n",
    "print(list(set(country_list).difference([i for i in hc_df_clean.name.unique()])),\"are/is missing\")\n",
    "missing_countries_list.extend(list(set(country_list).difference([i for i in hc_df_clean.name.unique()])))\n",
    "\n"
   ]
  },
  {
   "cell_type": "code",
   "execution_count": null,
   "metadata": {},
   "outputs": [],
   "source": [
    "# pull out rows with \"PRY_NTRY\" (primary not tertiary) for subject and years in our year list\n",
    "hc_df_clean = hc_df_clean[(hc_df_clean[\"SUBJECT\"] == 'TOT') \n",
    "                          & (hc_df_clean[\"TIME\"].isin(year_list)) \n",
    "                          & (hc_df_clean[\"MEASURE\"] == 'PC_GDP')]\n",
    "print(hc_df_clean.shape)\n",
    "hc_df_clean.head()"
   ]
  },
  {
   "cell_type": "code",
   "execution_count": null,
   "metadata": {},
   "outputs": [],
   "source": [
    "important_hc_cols = [\"name\",\"TIME\",\"Value\"]\n",
    "hc_df = hc_df_clean[important_hc_cols]\n",
    "hc_df.columns = [\"Country\",\"year\",\"pct_gdp_hc\"]\n",
    "hc_df['year'] = hc_df['year'].astype(str)\n",
    "hc_df.head()"
   ]
  },
  {
   "cell_type": "code",
   "execution_count": null,
   "metadata": {},
   "outputs": [],
   "source": [
    "# Now merge all of the data together to make for easy transfer to google sheets!!!!\n",
    "\n",
    "\n",
    "total_df = pd.merge(pd.merge(me_df, ed_df, on=['year','Country'], how='outer'), hc_df, on=['year','Country'], how='outer')\n",
    "total_df = total_df.fillna(0)\n",
    "# wks = sh[0]\n",
    "# wks.title= 'all_data'\n",
    "# wks.set_dataframe(total_df,(1,1))\n",
    "# total_df.head()"
   ]
  },
  {
   "cell_type": "code",
   "execution_count": null,
   "metadata": {
    "scrolled": true
   },
   "outputs": [],
   "source": [
    "total_df[\"total_ED\"] = (total_df[\"pct_gdp_ed\"] * (total_df[\"gdp\"]))/100\n",
    "total_df[\"total_ED\"] = total_df[\"total_ED\"].astype(int)\n",
    "total_df[\"per_capita_ED\"] = (total_df[\"total_ED\"]/(total_df[\"pop\"]))\n",
    "total_df[\"total_HC\"] = (total_df[\"pct_gdp_hc\"] * (total_df[\"gdp\"]))/100\n",
    "total_df[\"total_HC\"] = total_df[\"total_HC\"].astype(int)\n",
    "total_df[\"per_capita_HC\"] = (total_df[\"total_HC\"]/(total_df[\"pop\"]))\n",
    "\n",
    "total_df = total_df.fillna(0)\n",
    "total_df = total_df.replace(0,\"null\")\n",
    "total_df.head()"
   ]
  },
  {
   "cell_type": "code",
   "execution_count": null,
   "metadata": {},
   "outputs": [],
   "source": [
    "total_df_pivot = total_df.melt(id_vars=[\"year\",\"Country\"],value_vars=[\n",
    "    \"total_ME\",\"share_of_gdp_ME\",\"per_capita_ME\",\"gdp\",\"pop\",\"pcgdp\",\"pct_gdp_ed\",\n",
    "    \"pct_gdp_hc\",\"total_ED\", \"per_capita_ED\", \"total_HC\", \"per_capita_HC\"\n",
    "    ]).set_index([\"variable\",\"Country\"]).pivot(columns='year').reset_index().set_index(\"Country\").reset_index()\n",
    "total_df_pivot.columns = [\"Country\",\"variable\",\"2010\",\"2011\",\"2012\",\"2013\",\"2014\",\"2015\",\"2016\",\"2017\"]\n",
    "total_df_pivot.head()"
   ]
  },
  {
   "cell_type": "code",
   "execution_count": null,
   "metadata": {},
   "outputs": [],
   "source": [
    "#total Military Expenditure\n",
    "total_me_df = total_df_pivot[\n",
    "    total_df_pivot.variable == \"total_ME\"].drop(columns=\"variable\").reset_index().drop(columns=\"index\")\n",
    "\n",
    "# drop korea because no data\n",
    "total_me_df = total_me_df[total_me_df.Country != \"Republic of Korea\"]\n",
    "\n",
    "# wks = sh[0]\n",
    "# wks.title = \"total_ME\"\n",
    "# wks.set_dataframe(total_me_df,(1,1))\n",
    "total_me_df.head()"
   ]
  },
  {
   "cell_type": "code",
   "execution_count": null,
   "metadata": {},
   "outputs": [],
   "source": [
    "total_ed_df = total_df_pivot[\n",
    "    total_df_pivot.variable == \"total_ED\"].drop(columns=\"variable\").reset_index().drop(columns=\"index\")\n",
    "\n",
    "# drop countries with no data\n",
    "total_ed_df = total_ed_df[(total_ed_df.Country != \"China\") & \n",
    "                          (total_ed_df.Country != \"Saudi Arabia\") &\n",
    "                         (total_ed_df.Country != \"Republic of Korea\")]\n",
    "#drop columns with no values\n",
    "total_ed_df = total_ed_df.drop(columns=[\"2016\",\"2017\"])\n",
    "\n",
    "# sh.add_worksheet(\"total_ED\")\n",
    "# wks = sh.worksheet_by_title(\"total_ED\")\n",
    "# wks.set_dataframe(total_ed_df,(1,1))\n",
    "total_ed_df.head()"
   ]
  },
  {
   "cell_type": "code",
   "execution_count": null,
   "metadata": {},
   "outputs": [],
   "source": [
    "total_hc_df = total_df_pivot[\n",
    "    total_df_pivot.variable == \"total_HC\"].drop(columns=\"variable\").reset_index().drop(columns=\"index\")\n",
    "\n",
    "# remove countries with missing data\n",
    "total_hc_df = total_hc_df[(total_hc_df.Country != \"Argentina\") &\n",
    "                         (total_hc_df.Country != \"Republic of Korea\") &\n",
    "                          (total_hc_df.Country != \"Saudi Arabia\")]\n",
    "                          \n",
    "# sh.add_worksheet(\"total_HC\")\n",
    "# wks = sh.worksheet_by_title(\"total_HC\")\n",
    "# wks.set_dataframe(total_hc_df,(1,1))\n",
    "total_hc_df.head()"
   ]
  },
  {
   "cell_type": "code",
   "execution_count": null,
   "metadata": {},
   "outputs": [],
   "source": [
    "#percent gdp Military Expenditure\n",
    "pct_gdp_me_df = total_df_pivot[\n",
    "    total_df_pivot.variable == \"share_of_gdp_ME\"].drop(columns=\"variable\").reset_index().drop(columns=\"index\")\n",
    "\n",
    "# drop korea because no data\n",
    "pct_gdp_me_df = pct_gdp_me_df[pct_gdp_me_df.Country != \"Republic of Korea\"]\n",
    "\n",
    "# sh.add_worksheet(\"pct_gdp_ME\")\n",
    "# wks = sh.worksheet_by_title(\"pct_gdp_ME\")\n",
    "# wks.set_dataframe(pct_gdp_me_df,(1,1))\n",
    "pct_gdp_me_df.head()"
   ]
  },
  {
   "cell_type": "code",
   "execution_count": null,
   "metadata": {},
   "outputs": [],
   "source": [
    "pct_gdp_ed_df = total_df_pivot[\n",
    "    total_df_pivot.variable == \"pct_gdp_ed\"].drop(columns=\"variable\").reset_index().drop(columns=\"index\")\n",
    "\n",
    "# drop years with no data\n",
    "pct_gdp_ed_df = pct_gdp_ed_df.drop(columns=[\"2016\",\"2017\"])\n",
    "# drop countries with no data\n",
    "pct_gdp_ed_df = pct_gdp_ed_df[(pct_gdp_ed_df.Country != \"China\") & \n",
    "                              (pct_gdp_ed_df.Country != \"Saudi Arabia\") &\n",
    "                              (pct_gdp_ed_df.Country != \"Republic of Korea\")]\n",
    "\n",
    "# sh.add_worksheet(\"pct_gdp_ED\")\n",
    "# wks = sh.worksheet_by_title(\"pct_gdp_ED\")\n",
    "# wks.set_dataframe(pct_gdp_ed_df,(1,1))\n",
    "pct_gdp_ed_df.head()"
   ]
  },
  {
   "cell_type": "code",
   "execution_count": null,
   "metadata": {},
   "outputs": [],
   "source": [
    "pct_gdp_hc_df = total_df_pivot[\n",
    "    total_df_pivot.variable == \"pct_gdp_hc\"].drop(columns=\"variable\").reset_index().drop(columns=\"index\")\n",
    "\n",
    "# remove countries with missing data\n",
    "pct_gdp_hc_df = pct_gdp_hc_df[(pct_gdp_hc_df.Country != \"Argentina\") &\n",
    "                         (pct_gdp_hc_df.Country != \"Republic of Korea\") &\n",
    "                          (pct_gdp_hc_df.Country != \"Saudi Arabia\")]\n",
    "\n",
    "# sh.add_worksheet(\"pct_gdp_HC\")\n",
    "# wks = sh.worksheet_by_title(\"pct_gdp_HC\")\n",
    "# wks.set_dataframe(pct_gdp_hc_df,(1,1))\n",
    "pct_gdp_hc_df.head()"
   ]
  },
  {
   "cell_type": "code",
   "execution_count": null,
   "metadata": {},
   "outputs": [],
   "source": [
    "total_df_pivot['variable'].unique()"
   ]
  },
  {
   "cell_type": "code",
   "execution_count": null,
   "metadata": {},
   "outputs": [],
   "source": [
    "# #add a new sheet for every country\n",
    "# for country in country_list:\n",
    "#     sh.add_worksheet(country)\n",
    "\n",
    "# #add country-specific data to new sheets\n",
    "# for country in country_list:\n",
    "#     wks = sh.worksheet_by_title(country)\n",
    "#     new_frame = total_df[total_df[\"Country\"]==country]\n",
    "#     wks.set_dataframe(new_frame,(1,1))"
   ]
  },
  {
   "cell_type": "code",
   "execution_count": null,
   "metadata": {},
   "outputs": [],
   "source": [
    "# some useful sheets api code\n",
    "# Loop through each variable and create a new sheet of that variable per year per country in google sheets\n",
    "# plot_vars = [\"\"]\n",
    "# for var in total_df_pivot['variable'].unique():\n",
    "#     df = total_df_pivot[total_df_pivot.variable == var].drop(columns=\"variable\").reset_index().drop(columns=\"index\")\n",
    "#     sh.add_worksheet(var)\n",
    "#     wks = sh.worksheet_by_title(var)\n",
    "#     wks.set_dataframe(df,(1,1))\n",
    "#     print(var)\n",
    "    \n",
    "#delete worksheets when necessary\n",
    "# for i in range(6):\n",
    "#     sh.del_worksheet(sh[i])"
   ]
  }
 ],
 "metadata": {
  "kernelspec": {
   "display_name": "Python 3",
   "language": "python",
   "name": "python3"
  },
  "language_info": {
   "codemirror_mode": {
    "name": "ipython",
    "version": 3
   },
   "file_extension": ".py",
   "mimetype": "text/x-python",
   "name": "python",
   "nbconvert_exporter": "python",
   "pygments_lexer": "ipython3",
   "version": "3.6.8"
  }
 },
 "nbformat": 4,
 "nbformat_minor": 2
}
